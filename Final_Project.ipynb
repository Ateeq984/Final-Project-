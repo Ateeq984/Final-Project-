{
  "metadata": {
    "kernelspec": {
      "language": "python",
      "display_name": "Python 3",
      "name": "python3"
    },
    "language_info": {
      "name": "python",
      "version": "3.10.13",
      "mimetype": "text/x-python",
      "codemirror_mode": {
        "name": "ipython",
        "version": 3
      },
      "pygments_lexer": "ipython3",
      "nbconvert_exporter": "python",
      "file_extension": ".py"
    },
    "kaggle": {
      "accelerator": "nvidiaTeslaT4",
      "dataSources": [
        {
          "sourceId": 6978893,
          "sourceType": "datasetVersion",
          "datasetId": 4010347
        }
      ],
      "dockerImageVersionId": 30747,
      "isInternetEnabled": true,
      "language": "python",
      "sourceType": "notebook",
      "isGpuEnabled": true
    },
    "colab": {
      "provenance": []
    }
  },
  "nbformat_minor": 0,
  "nbformat": 4,
  "cells": [
    {
      "cell_type": "code",
      "source": [
        "import os\n",
        "import cv2\n",
        "import numpy as np\n",
        "import matplotlib.pyplot as plt\n",
        "import seaborn as sns\n",
        "import tensorflow as tf\n",
        "from tensorflow.keras.applications import ResNet50, DenseNet121\n",
        "from tensorflow.keras.layers import Input, GlobalAveragePooling2D, Dense, Concatenate, BatchNormalization, Dropout, MultiHeadAttention, Reshape\n",
        "from tensorflow.keras.models import Model\n",
        "from tensorflow.keras.optimizers import Adam\n",
        "from tensorflow.keras.callbacks import ReduceLROnPlateau\n",
        "from sklearn.metrics import classification_report, confusion_matrix\n",
        "from tensorflow.keras.preprocessing.image import ImageDataGenerator\n",
        "from sklearn.model_selection import train_test_split\n",
        "import shutil"
      ],
      "metadata": {
        "trusted": true,
        "execution": {
          "iopub.status.busy": "2025-02-02T16:42:09.878967Z",
          "iopub.execute_input": "2025-02-02T16:42:09.879535Z",
          "iopub.status.idle": "2025-02-02T16:42:22.143297Z",
          "shell.execute_reply.started": "2025-02-02T16:42:09.879507Z",
          "shell.execute_reply": "2025-02-02T16:42:22.142384Z"
        },
        "id": "F73lhMMbKNGn",
        "outputId": "6266957f-cb4f-4447-9927-9460428c5217"
      },
      "outputs": [
        {
          "name": "stderr",
          "text": "2025-02-02 16:42:12.769090: E external/local_xla/xla/stream_executor/cuda/cuda_dnn.cc:9261] Unable to register cuDNN factory: Attempting to register factory for plugin cuDNN when one has already been registered\n2025-02-02 16:42:12.769228: E external/local_xla/xla/stream_executor/cuda/cuda_fft.cc:607] Unable to register cuFFT factory: Attempting to register factory for plugin cuFFT when one has already been registered\n2025-02-02 16:42:12.907106: E external/local_xla/xla/stream_executor/cuda/cuda_blas.cc:1515] Unable to register cuBLAS factory: Attempting to register factory for plugin cuBLAS when one has already been registered\n",
          "output_type": "stream"
        }
      ],
      "execution_count": null
    },
    {
      "cell_type": "code",
      "source": [
        "\n",
        "# Define class labels\n",
        "class_labels = ['Bacteria', 'Fungi', 'Healthy', 'Nematode', 'Pest', 'Phytopthora', 'Virus']\n",
        "\n",
        "# Path to dataset directory\n",
        "dataset_dir = \"/kaggle/input/potato-leaf-disease-dataset/Potato Leaf Disease Dataset in Uncontrolled Environment\"\n",
        "\n",
        "# Define new dataset structure\n",
        "base_dir = \"/kaggle/working/potato_leaf_disease_split\"\n",
        "train_dir = os.path.join(base_dir, \"Train\")\n",
        "valid_dir = os.path.join(base_dir, \"Valid\")\n",
        "test_dir = os.path.join(base_dir, \"Test\")\n"
      ],
      "metadata": {
        "trusted": true,
        "execution": {
          "iopub.status.busy": "2025-02-02T16:42:22.144803Z",
          "iopub.execute_input": "2025-02-02T16:42:22.145287Z",
          "iopub.status.idle": "2025-02-02T16:42:22.150036Z",
          "shell.execute_reply.started": "2025-02-02T16:42:22.145264Z",
          "shell.execute_reply": "2025-02-02T16:42:22.149026Z"
        },
        "id": "s1Y5-toSKNGp"
      },
      "outputs": [],
      "execution_count": null
    },
    {
      "cell_type": "code",
      "source": [
        "# Create directories\n",
        "for directory in [train_dir, valid_dir, test_dir]:\n",
        "    os.makedirs(directory, exist_ok=True)\n",
        "\n",
        "# Split data (80% train, 10% validation, 10% test)\n",
        "for category in os.listdir(dataset_dir):\n",
        "    category_path = os.path.join(dataset_dir, category)\n",
        "    if os.path.isdir(category_path):\n",
        "        images = os.listdir(category_path)\n",
        "        train_images, temp_images = train_test_split(images, test_size=0.2, random_state=42)\n",
        "        valid_images, test_images = train_test_split(temp_images, test_size=0.5, random_state=42)\n",
        "\n",
        "        # Create category subdirectories\n",
        "        os.makedirs(os.path.join(train_dir, category), exist_ok=True)\n",
        "        os.makedirs(os.path.join(valid_dir, category), exist_ok=True)\n",
        "        os.makedirs(os.path.join(test_dir, category), exist_ok=True)\n",
        "\n",
        "        # Move images\n",
        "        for img in train_images:\n",
        "            shutil.copy(os.path.join(category_path, img), os.path.join(train_dir, category, img))\n",
        "        for img in valid_images:\n",
        "            shutil.copy(os.path.join(category_path, img), os.path.join(valid_dir, category, img))\n",
        "        for img in test_images:\n",
        "            shutil.copy(os.path.join(category_path, img), os.path.join(test_dir, category, img))"
      ],
      "metadata": {
        "trusted": true,
        "execution": {
          "iopub.status.busy": "2025-02-02T16:42:22.151329Z",
          "iopub.execute_input": "2025-02-02T16:42:22.151670Z",
          "iopub.status.idle": "2025-02-02T16:42:51.554602Z",
          "shell.execute_reply.started": "2025-02-02T16:42:22.151642Z",
          "shell.execute_reply": "2025-02-02T16:42:51.553900Z"
        },
        "id": "ta5Ag52YKNGp"
      },
      "outputs": [],
      "execution_count": null
    },
    {
      "cell_type": "code",
      "source": [
        "# Step 1: Data Augmentation & Preprocessing\n",
        "datagen = ImageDataGenerator(\n",
        "    rescale=1./255,\n",
        "    rotation_range=30,\n",
        "    width_shift_range=0.3,\n",
        "    height_shift_range=0.3,\n",
        "    shear_range=0.3,\n",
        "    zoom_range=0.3,\n",
        "    horizontal_flip=True,\n",
        "    fill_mode='nearest'\n",
        ")\n",
        "\n",
        "train_generator = datagen.flow_from_directory(train_dir, target_size=(224, 224), batch_size=32, class_mode='categorical')\n",
        "valid_generator = datagen.flow_from_directory(valid_dir, target_size=(224, 224), batch_size=32, class_mode='categorical')\n",
        "test_generator = datagen.flow_from_directory(test_dir, target_size=(224, 224), batch_size=32, class_mode='categorical', shuffle=False)\n"
      ],
      "metadata": {
        "trusted": true,
        "execution": {
          "iopub.status.busy": "2025-02-02T16:42:51.556773Z",
          "iopub.execute_input": "2025-02-02T16:42:51.557123Z",
          "iopub.status.idle": "2025-02-02T16:42:51.636519Z",
          "shell.execute_reply.started": "2025-02-02T16:42:51.557092Z",
          "shell.execute_reply": "2025-02-02T16:42:51.635943Z"
        },
        "id": "H3xrsHyfKNGq",
        "outputId": "96744f35-49a3-4c01-b18a-045f768aeac4"
      },
      "outputs": [
        {
          "name": "stdout",
          "text": "Found 2457 images belonging to 7 classes.\nFound 308 images belonging to 7 classes.\nFound 311 images belonging to 7 classes.\n",
          "output_type": "stream"
        }
      ],
      "execution_count": null
    }
  ]
}